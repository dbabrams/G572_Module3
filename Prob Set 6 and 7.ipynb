{
 "cells": [
  {
   "cell_type": "markdown",
   "metadata": {
    "collapsed": false
   },
   "source": [
    "# <center>Problem Set 4</center>"
   ]
  },
  {
   "cell_type": "markdown",
   "metadata": {
    "collapsed": false
   },
   "source": [
    "## <center> Due March 12 at 10:00 pm"
   ]
  },
  {
   "cell_type": "markdown",
   "metadata": {
    "collapsed": false
   },
   "source": [
    "## <center>Project write-up</center>\n",
    "\n",
    "The McHenry County Water Resource Specialist is looking for new ways to view data that is being collected by the county. The USGS is currently collecting data in real-time for a number of wells in McHenry County, see the spreadsheet in the assignment folder. Your task in this assignment is to create a potentiometric surface, in real-time, of this data, as well as to look at a surface from summer of 2019 and compare the differences. This assignment is broken up into four parts:\n",
    "\n",
    "### <center>Part I: Create a table showing metadata and current conditions in the aquifer</center>\n",
    "\n",
    "Using Python, create a Pandas DataFrame that includes indices showing the site number given by the USGS and the following columns updated from the USGS web-services:\n",
    "\n",
    "<ul>\n",
    "    <li>Site Name</li>\n",
    "    <li>Latitude</li>\n",
    "    <li>Longitude</li>\n",
    "    <li>Date-time of the most recent data point</li>\n",
    "    <li>Head (in ft above MSL) of the most recent data point</li>\n",
    "    <li>Date-time of a data point from the summer of 2019 (use 200 days ago)</li>\n",
    "    <li>Head (in ft above MSL) of the summer of 2019 data point</li>\n",
    "</ul>\n",
    "\n",
    "Write a paragraph discussing the process and observations made with this data.\n",
    "\n",
    "<b>Remember that the USGS web service will return depth to water. You need to convert this to a head.</b>\n",
    "\n",
    "<b>You have not seen in class how to write a code to extract latitude and longitude from the USGS web service. I recommend that you use Spyder to explore the data structure of the dictionary and develop this code. Spyder will be available in office hours on Daniel's laptop if you don't have home access.</b>\n",
    "\n",
    "### <center>Part II: Create a hydrograph</center>\n",
    "\n",
    "Using Python, select the well with the largest head change between summer of 2018 and the most recent data point. Create two hydrographs showing:\n",
    "\n",
    "<ul>\n",
    "    <li>The last year of data for this well</li>\n",
    "    <li>The last month of data for this well</li>\n",
    "</ul>\n",
    "\n",
    "Write a paragraph discussing any observed trends in the data.\n",
    "\n",
    "### <center>Part III: Create maps from this data</center>\n",
    "\n",
    "<b>Note that to complete this part, we need to discuss making maps. Lecture Notes will be available on 3-11, with the actual lecture held on 3-13.</b>\n",
    "\n",
    "Using the data from Part I, create maps showing the:\n",
    "<ul>\n",
    "    <li>Potentiometric surface for Summer 2018</li>\n",
    "    <li>Potentiometric surface for today</li>\n",
    "    <li>Head difference (ft) between the two surfaces</li>\n",
    "</ul>\n",
    "\n",
    "When making maps, use the following packages:\n",
    "<ul>\n",
    "    <li>pykrige for interpolation</li>\n",
    "    <li>mpl_toolkits.basemap for creating maps</li>\n",
    "</ul>\n",
    "\n",
    "Make sure that maps include the following:\n",
    "<ul>\n",
    "    <li>County boundaries</li>\n",
    "    <li>A color flood</li>\n",
    "    <li>Contours with labels</li>\n",
    "    <li>A title with the date in a readable format</li>\n",
    "    <li>A color bar</li>\n",
    "</ul>\n",
    "\n",
    "Write a paragraph discussing the process and observations made with the map. Include a discussion of the impact of different variograms on the potentiometric surface.\n",
    "\n",
    "### <center>Part IV: Comparison with a 2013 study</center>\n",
    "\n",
    "Conduct a qualitative analysis on the potentiometric surface generated in this assignment with the potentiometric surface generated in a 2013 study (see page 71, Figure 42 of the following report: https://www.ideals.illinois.edu/handle/2142/50040). Write a paragraph discussing these differences (qualitatively). Include an image of Figure 42 in your Jupyter Notebook, with a reference to the report."
   ]
  },
  {
   "cell_type": "code",
   "execution_count": 0,
   "metadata": {
    "collapsed": false
   },
   "outputs": [
   ],
   "source": [
   ]
  }
 ],
 "metadata": {
  "kernelspec": {
   "display_name": "Python 3 (system-wide)",
   "language": "python",
   "metadata": {
    "cocalc": {
     "description": "Python 3 programming language",
     "priority": 100,
     "url": "https://www.python.org/"
    }
   },
   "name": "python3"
  },
  "language_info": {
   "codemirror_mode": {
    "name": "ipython",
    "version": 3
   },
   "file_extension": ".py",
   "mimetype": "text/x-python",
   "name": "python",
   "nbconvert_exporter": "python",
   "pygments_lexer": "ipython3",
   "version": "3.6.9"
  }
 },
 "nbformat": 4,
 "nbformat_minor": 0
}