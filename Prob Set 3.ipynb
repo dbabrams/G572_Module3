{
 "cells": [
  {
   "cell_type": "markdown",
   "metadata": {
    "colab_type": "text",
    "id": "-LRuOh2ZMjG2"
   },
   "source": [
    "# <center>Problem Set 3</center>"
   ]
  },
  {
   "cell_type": "markdown",
   "metadata": {
    "colab_type": "text",
    "id": "D6G93eD4MjG4"
   },
   "source": [
    "## <center> Due March 22 at midnight"
   ]
  },
  {
   "cell_type": "markdown",
   "metadata": {
    "colab_type": "text",
    "id": "rxCfzujEMjG6"
   },
   "source": [
    "The McHenry County Water Resource Specialist is looking for new ways to view data that is being collected by the county. The USGS is currently collecting data in real-time for a number of wells in McHenry County. Your task in this assignment is to create a potentiometric surface, in real-time, of this data, as well as to look at a surface from summer of 2019 and compare the differences. <b>The wells you will be using for this assignment can be found in the Excel file 'gwmchenry_deep.xlsx'. The files contains columns that (respectively) contain USGS Site Number, Site Name, and Land Surface Elevation.</b>\n",
    "\n",
    "<i>Note that the code should take into account the possibility for outliers. In particular, think about what happens if your code includes 'NaN' head values (which can and likely will happen at some point over the next few weeks).</i>  \n",
    "\n",
    "### <center>Part I: Compile Data for Each Well</center>\n",
    "\n",
    "Using Python, create a Pandas DataFrame that contains the USGS Site Number as the index and columns showing: \n",
    "<ul>\n",
    "    <li>Site Name</li>\n",
    "    <li>Latitude</li>\n",
    "    <li>Longitude</li>\n",
    "    <li>Land Surface Elevation</li>\n",
    "    <li>Date-time of the most recent data point</li>\n",
    "    <li>Head (in ft above MSL) of the most recent data point</li>\n",
    "</ul>\n",
    "\n",
    "<b>Remember that the USGS web service will return depth to water. You need to convert this to a head.</b>\n",
    "\n",
    "### <center>Part II: Create maps from this data</center>\n",
    "\n",
    "Create maps showing the:\n",
    "<ul>\n",
    "    <li>Potentiometric surface for Summer 2019 (the exact date does not matter as long as it is communicated)</li>\n",
    "    <li>Potentiometric surface for today</li>\n",
    "    <li>Head difference (ft) between the two surfaces</li>\n",
    "</ul>\n",
    "\n",
    "Make sure that maps include the following:\n",
    "<ul>\n",
    "    <li>State boundaries</li>\n",
    "    <li>Contours with labels</li>\n",
    "    <li>A title with the date in a readable format</li>\n",
    "    <li>A color flood</li>\n",
    "    <li>A color bar</li>\n",
    "</ul>\n",
    "\n",
    "<b>You are responsible to search the internet and determine a  way to assign a color flood and color bar.</b>\n",
    "\n",
    "### <center>Part III: Comparison with a 2013 study</center>\n",
    "\n",
    "Conduct a qualitative analysis on the potentiometric surface generated in this assignment with the potentiometric surface generated in a 2013 study (see page 71, Figure 42 of the following report: https://www.ideals.illinois.edu/handle/2142/50040). Write a paragraph discussing these differences (qualitatively). Include an image of Figure 42 in your Jupyter Notebook, with a reference to the report."
   ]
  },
  {
   "cell_type": "code",
   "execution_count": 0,
   "metadata": {
    "colab": {},
    "colab_type": "code",
    "id": "6oxUU6u_MjG7"
   },
   "outputs": [],
   "source": []
  }
 ],
 "metadata": {
  "colab": {
   "name": "Prob Set 6 and 7.ipynb",
   "provenance": []
  },
  "kernelspec": {
   "display_name": "Python 3",
   "language": "python",
   "name": "python3"
  },
  "language_info": {
   "codemirror_mode": {
    "name": "ipython",
    "version": 3
   },
   "file_extension": ".py",
   "mimetype": "text/x-python",
   "name": "python",
   "nbconvert_exporter": "python",
   "pygments_lexer": "ipython3",
   "version": "3.8.5"
  }
 },
 "nbformat": 4,
 "nbformat_minor": 1
}
