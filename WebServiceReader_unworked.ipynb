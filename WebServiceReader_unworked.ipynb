{
 "cells": [
  {
   "cell_type": "markdown",
   "metadata": {
    "colab_type": "text",
    "id": "bMh04YrJDj8t"
   },
   "source": [
    "# Reading data from online web services\n",
    "\n",
    "The following code walks through the process of reading web services from the USGS. "
   ]
  },
  {
   "cell_type": "code",
   "execution_count": 1,
   "metadata": {
    "colab": {},
    "colab_type": "code",
    "id": "lsv5oNsDDj8v"
   },
   "outputs": [],
   "source": [
    "import matplotlib.pyplot as plt\n",
    "import pandas as pd\n",
    "import urllib, json\n",
    "from datetime import datetime\n",
    "%matplotlib inline"
   ]
  },
  {
   "cell_type": "markdown",
   "metadata": {
    "colab_type": "text",
    "id": "HXq1nMM7Dj9J"
   },
   "source": [
    "## A quick detour: Dictionaries\n",
    "\n",
    "A dictionary is a collection which is unordered, changeable and indexed. In Python dictionaries are written with curly brackets, and they have keys and values. Some interactive tutorials: https://www.w3schools.com/python/python_dictionaries.asp\n",
    "\n",
    "More in-depth tutorials and discussion about Python data types: https://www.datacamp.com/community/tutorials/python-dictionary-tutorial"
   ]
  },
  {
   "cell_type": "code",
   "execution_count": null,
   "metadata": {
    "colab": {
     "base_uri": "https://localhost:8080/",
     "height": 102
    },
    "colab_type": "code",
    "id": "6UvbUel9Dj9P",
    "outputId": "95990998-9483-4e20-d4f4-7691b926a8b6"
   },
   "outputs": [],
   "source": []
  },
  {
   "cell_type": "markdown",
   "metadata": {
    "colab_type": "text",
    "id": "anUAAD18Dj9S"
   },
   "source": [
    "## Obtaining real-time data from the USGS\n",
    "\n",
    "Let's extract real-time data from a USGS monitoring well in Lee County, a heavily irrigated area of Illinois: https://waterdata.usgs.gov/il/nwis/uv/?site_no=413743089310102&PARAmeter_cd=72019,72020\n",
    "\n",
    "To start, visit the following page and create a link to gather the appropriate data: https://waterservices.usgs.gov/rest/IV-Test-Tool.html\n",
    "\n",
    "We want the last 500 days of depth-to-water data (72019) for the site 413743089310102."
   ]
  },
  {
   "cell_type": "markdown",
   "metadata": {
    "colab_type": "text",
    "id": "UX_4Jct1Dj9S"
   },
   "source": [
    "## Let's first create the URL we are going to extract data from"
   ]
  },
  {
   "cell_type": "code",
   "execution_count": null,
   "metadata": {
    "colab": {},
    "colab_type": "code",
    "id": "HiIybdu1Dj9T"
   },
   "outputs": [],
   "source": []
  },
  {
   "cell_type": "markdown",
   "metadata": {
    "colab_type": "text",
    "id": "4OwOopjvDj9X"
   },
   "source": [
    "## Let's open the URL and read the data in\n",
    "\n",
    "First, we have to request to open the url, using urllib.request.urlopen(). Next, we have to load the json-formatted data, which will be read in as a dictionary"
   ]
  },
  {
   "cell_type": "code",
   "execution_count": null,
   "metadata": {
    "colab": {},
    "colab_type": "code",
    "id": "SromqF1XDj9Y",
    "scrolled": true
   },
   "outputs": [],
   "source": []
  },
  {
   "cell_type": "code",
   "execution_count": null,
   "metadata": {
    "colab": {
     "base_uri": "https://localhost:8080/",
     "height": 34
    },
    "colab_type": "code",
    "id": "ucZiuZOpGwrS",
    "outputId": "0a54860c-7dc3-4fca-d99b-1bfea33b5330"
   },
   "outputs": [],
   "source": []
  },
  {
   "cell_type": "code",
   "execution_count": null,
   "metadata": {
    "colab": {
     "base_uri": "https://localhost:8080/",
     "height": 34
    },
    "colab_type": "code",
    "id": "YS8_Bv2fHlJT",
    "outputId": "e4b9fc14-33e1-446b-a8f4-bfb7ce80b2e5"
   },
   "outputs": [],
   "source": []
  },
  {
   "cell_type": "code",
   "execution_count": null,
   "metadata": {
    "colab": {
     "base_uri": "https://localhost:8080/",
     "height": 238
    },
    "colab_type": "code",
    "id": "KN2TF-3EH8N2",
    "outputId": "ed84703f-752b-4795-a004-8e1db5b031e7"
   },
   "outputs": [],
   "source": []
  },
  {
   "cell_type": "code",
   "execution_count": null,
   "metadata": {
    "colab": {
     "base_uri": "https://localhost:8080/",
     "height": 34
    },
    "colab_type": "code",
    "id": "cCzsLZ8VIL20",
    "outputId": "e355672b-64c2-4b45-a60c-67cbf4eb81a8"
   },
   "outputs": [],
   "source": []
  },
  {
   "cell_type": "markdown",
   "metadata": {
    "colab_type": "text",
    "id": "dBRS4ie0Dj9f"
   },
   "source": [
    "## Next create a list for the time series and values"
   ]
  },
  {
   "cell_type": "code",
   "execution_count": null,
   "metadata": {},
   "outputs": [],
   "source": []
  },
  {
   "cell_type": "markdown",
   "metadata": {
    "colab_type": "text",
    "id": "BeVgmULtDj9h"
   },
   "source": [
    "## Finally let's plot the data"
   ]
  },
  {
   "cell_type": "code",
   "execution_count": null,
   "metadata": {
    "colab": {
     "base_uri": "https://localhost:8080/",
     "height": 729
    },
    "colab_type": "code",
    "id": "Dh1BUaBRDj9i",
    "outputId": "f266269d-180f-49d2-813e-7ab302cfbdc3"
   },
   "outputs": [],
   "source": []
  },
  {
   "cell_type": "code",
   "execution_count": null,
   "metadata": {},
   "outputs": [],
   "source": []
  }
 ],
 "metadata": {
  "colab": {
   "name": "Week 8 March 4.ipynb",
   "provenance": [],
   "toc_visible": true
  },
  "kernelspec": {
   "display_name": "Python 3",
   "language": "python",
   "name": "python3"
  },
  "language_info": {
   "codemirror_mode": {
    "name": "ipython",
    "version": 3
   },
   "file_extension": ".py",
   "mimetype": "text/x-python",
   "name": "python",
   "nbconvert_exporter": "python",
   "pygments_lexer": "ipython3",
   "version": "3.8.5"
  }
 },
 "nbformat": 4,
 "nbformat_minor": 1
}
