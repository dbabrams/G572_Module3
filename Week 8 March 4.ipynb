{
 "cells": [
  {
   "cell_type": "markdown",
   "metadata": {
    "collapsed": false
   },
   "source": [
    "# Week 8: Spatial interpolation and reading data from online"
   ]
  },
  {
   "cell_type": "code",
   "execution_count": 1,
   "metadata": {
    "collapsed": false
   },
   "outputs": [
   ],
   "source": [
    "# spatial interpolation\n",
    "import numpy as np\n",
    "import scipy.interpolate as sciint\n",
    "import scipy.special as sps\n",
    "import pylab\n",
    "import matplotlib.pyplot as plt\n",
    "\n",
    "# import data from online\n",
    "import urllib, json\n",
    "from datetime import datetime\n",
    "\n",
    "%matplotlib inline"
   ]
  },
  {
   "cell_type": "markdown",
   "metadata": {
    "collapsed": false
   },
   "source": [
    "## Theis equation\n",
    "\n",
    "Last time, we created a spatial map of two wells pumping, using the Theis Equation, see below."
   ]
  },
  {
   "cell_type": "code",
   "execution_count": 2,
   "metadata": {
    "collapsed": false
   },
   "outputs": [
    {
     "data": {
      "image/png": "[encoded data removed]"
     },
     "execution_count": 2,
     "metadata": {
      "image/png": {
       "height": 561,
       "width": 561
      }
     },
     "output_type": "execute_result"
    }
   ],
   "source": [
    "Q = 133000 # cfd\n",
    "T = 1200 #ft^2/d\n",
    "Ss = 2.6*10**-7 #1/ft\n",
    "b = 200 # ft\n",
    "S = Ss*b \n",
    "t = 1 #day\n",
    "\n",
    "# function that superimposes two Theis Equations\n",
    "def theis(x,y,Q,T,S,t):\n",
    "    return Q/(4*np.pi*T)*sps.exp1(((x**2+y**2))*S/(4*T*t))+Q/(4*np.pi*T)*sps.exp1((((x-2500)**2+(y+2500)**2))*S/(4*T*t))\n",
    "\n",
    "# create numpy arrays so we can plot the Theis Equation over a 100 ft grid from -5050 ft to 5050 ft, both in the x and y directions\n",
    "xpoints = np.arange(-5050,5051,100)\n",
    "ypoints = np.arange(-5050,5051,100)\n",
    "# create a mesh grid based on the arrays defined above\n",
    "X,Y = pylab.meshgrid(xpoints,ypoints)\n",
    "# create head values using the Theis function for every point on the grid\n",
    "values = theis(X,Y,Q,T,S,t)\n",
    "\n",
    "# control size of image\n",
    "pylab.rcParams['figure.figsize'] = 10,10\n",
    "# show the head values in a 2D image\n",
    "# we define the color map (cmap) with a yellow, orange, red color bar\n",
    "# color bar options are discussed at: https://matplotlib.org/examples/color/colormaps_reference.html\n",
    "im = pylab.imshow(values,cmap=pylab.cm.YlOrRd,origin='lower')\n",
    "# contour the data in intervals of 5 from 0 to 200\n",
    "cset = pylab.contour(values,np.arange(0,201,5))\n",
    "# display the color bar\n",
    "pylab.colorbar(im)\n",
    "# add a title to our image\n",
    "pylab.title('Theis solution')\n",
    "# show the image\n",
    "pylab.show()"
   ]
  },
  {
   "cell_type": "markdown",
   "metadata": {
    "collapsed": false
   },
   "source": [
    "## Create a random distribution of points over the same spatial domain "
   ]
  },
  {
   "cell_type": "code",
   "execution_count": 3,
   "metadata": {
    "collapsed": false
   },
   "outputs": [
   ],
   "source": [
    "# np.random.rand(numberofpoints,dimensions)\n",
    "# this function creates an array of points from 0 to 1\n",
    "# to plot from -5050 to 5050, we must multiple the randomly generated points by 10,100 and then subtract 5,050\n",
    "rpoints = 10100*np.random.rand(500, 2)-5050"
   ]
  },
  {
   "cell_type": "markdown",
   "metadata": {
    "collapsed": false
   },
   "source": [
    "## Plot the randomly generated points on a standard x,y plot "
   ]
  },
  {
   "cell_type": "code",
   "execution_count": 4,
   "metadata": {
    "collapsed": false
   },
   "outputs": [
    {
     "data": {
      "image/png": "[encoded data removed]"
     },
     "execution_count": 4,
     "metadata": {
      "image/png": {
       "height": 467,
       "width": 503
      }
     },
     "output_type": "execute_result"
    }
   ],
   "source": [
    "# define the size of the plot\n",
    "plt.rcParams['figure.figsize'] = 8,8\n",
    "# plot the location of each point as a black dot\n",
    "plt.plot(rpoints[:,0], rpoints[:,1], 'k.')\n",
    "plt.show()"
   ]
  },
  {
   "cell_type": "markdown",
   "metadata": {
    "collapsed": false
   },
   "source": [
    "## Calculate the Theis Solution at each randomly generated point"
   ]
  },
  {
   "cell_type": "code",
   "execution_count": 5,
   "metadata": {
    "collapsed": false
   },
   "outputs": [
   ],
   "source": [
    "# Calculate Theis for randomly generated points using the function that we already generated\n",
    "ptvalues = theis(rpoints[:,0], rpoints[:,1], Q, T, S, t)\n",
    "# interpolate the data over a grid defined by X and Y\n",
    "# griddata(x and y inputs, values, domain over which to plot data, interpolation method)\n",
    "grid_z0 = sciint.griddata(rpoints, ptvalues, (X,Y), method='nearest')"
   ]
  },
  {
   "cell_type": "markdown",
   "metadata": {
    "collapsed": false
   },
   "source": [
    "## Plot the interpolated data\n",
    "\n",
    "Code is the same as above, only now we plot interpolated data rather than Theis calculated at every cell."
   ]
  },
  {
   "cell_type": "code",
   "execution_count": 6,
   "metadata": {
    "collapsed": false
   },
   "outputs": [
    {
     "data": {
      "image/png": "[encoded data removed]"
     },
     "execution_count": 6,
     "metadata": {
      "image/png": {
       "height": 561,
       "width": 568
      }
     },
     "output_type": "execute_result"
    }
   ],
   "source": [
    "# control image size\n",
    "pylab.rcParams['figure.figsize'] = 10,10\n",
    "# create spatial image of interpolated data\n",
    "im = pylab.imshow(grid_z0,cmap=pylab.cm.YlOrRd,origin='lower')\n",
    "# now we contour the data in intervals of 5 from 0 to 200\n",
    "cset = pylab.contour(grid_z0,np.arange(0,200,5))\n",
    "# now we display the color bar\n",
    "pylab.colorbar(im)\n",
    "# finally we add a title to our image\n",
    "pylab.title('Theis solution')\n",
    "pylab.show()"
   ]
  },
  {
   "cell_type": "markdown",
   "metadata": {
    "collapsed": false
   },
   "source": [
    "## Finally, let's compare the Theis solution calculated at each point with the interpolated surface from the random points\n",
    "\n",
    "This is achieved by taking a difference between the two surfaces."
   ]
  },
  {
   "cell_type": "code",
   "execution_count": 7,
   "metadata": {
    "collapsed": false
   },
   "outputs": [
    {
     "data": {
      "image/png": "[encoded data removed]"
     },
     "execution_count": 7,
     "metadata": {
      "image/png": {
       "height": 567,
       "width": 579
      }
     },
     "output_type": "execute_result"
    }
   ],
   "source": [
    "# calculate difference between \"real\" and \"interpolated\" surface\n",
    "diff = values-grid_z0\n",
    "# control image size\n",
    "pylab.rcParams['figure.figsize'] = 10,10\n",
    "# plot difference\n",
    "# we use the seismic color bar to ensure that white is the middle color\n",
    "# we control the range over which the color map plots vmin and vmax; assigned such that 0 corresponds with white\n",
    "# in other words, white indicates the same values\n",
    "im = pylab.imshow(diff,cmap=pylab.cm.seismic, vmin = -10, vmax = 10,origin='lower')\n",
    "pylab.colorbar(im)\n",
    "pylab.show()"
   ]
  },
  {
   "cell_type": "markdown",
   "metadata": {
    "collapsed": false
   },
   "source": [
    "## A quick detour: Dictionaries\n",
    "\n",
    "A dictionary is a collection which is unordered, changeable and indexed. In Python dictionaries are written with curly brackets, and they have keys and values.\n",
    "\n",
    "Some interactive tutorials: https://www.w3schools.com/python/python_dictionaries.asp\n",
    "\n",
    "More in-depth tutorials and discussion about Python data types: https://www.datacamp.com/community/tutorials/python-dictionary-tutorial"
   ]
  },
  {
   "cell_type": "code",
   "execution_count": 8,
   "metadata": {
    "collapsed": false
   },
   "outputs": [
   ],
   "source": [
    "# Example Dictionary: Big Ten Football Champions\n",
    "B10Champs = {'2014': ['Ohio State','14-1'], '2015': ['Michigan State','12-2'], '2016': ['Penn State','11-3'], '2017': ['Ohio State','12-2'], '2018': ['Ohio State','13-1']}"
   ]
  },
  {
   "cell_type": "code",
   "execution_count": 9,
   "metadata": {
    "collapsed": false
   },
   "outputs": [
    {
     "name": "stdout",
     "output_type": "stream",
     "text": [
      "['Penn State', '11-3']\n"
     ]
    }
   ],
   "source": [
    "print(B10Champs['2016'])"
   ]
  },
  {
   "cell_type": "code",
   "execution_count": 10,
   "metadata": {
    "collapsed": false
   },
   "outputs": [
    {
     "name": "stdout",
     "output_type": "stream",
     "text": [
      "The 2014 Big 10 Football champion was Ohio State with a record of 14-1\n",
      "The 2015 Big 10 Football champion was Michigan State with a record of 12-2\n",
      "The 2016 Big 10 Football champion was Penn State with a record of 11-3\n",
      "The 2017 Big 10 Football champion was Ohio State with a record of 12-2\n",
      "The 2018 Big 10 Football champion was Ohio State with a record of 13-1\n"
     ]
    }
   ],
   "source": [
    "for key, value in B10Champs.items():\n",
    "    print('The', key, 'Big 10 Football champion was',value[0],'with a record of',value[1])"
   ]
  },
  {
   "cell_type": "markdown",
   "metadata": {
    "collapsed": false
   },
   "source": [
    "## Obtaining real-time data from the USGS\n",
    "\n",
    "Let's extract real-time data from a USGS monitoring well in Lee County, a heavily irrigated area of Illinois\n",
    "\n",
    "https://waterdata.usgs.gov/il/nwis/uv/?site_no=413743089310102&PARAmeter_cd=72019,72020\n",
    "\n",
    "To start, visit the following page and create a link to gather the appropriate data:\n",
    "\n",
    "https://waterservices.usgs.gov/rest/IV-Test-Tool.html\n",
    "\n",
    "We want the last 500 days of depth-to-water data (72019) for the site 413743089310102."
   ]
  },
  {
   "cell_type": "markdown",
   "metadata": {
    "collapsed": false
   },
   "source": [
    "## Let's first create the URL we are going to extract data from"
   ]
  },
  {
   "cell_type": "code",
   "execution_count": 11,
   "metadata": {
    "collapsed": false
   },
   "outputs": [
   ],
   "source": [
    "siteNum = \"413743089310102\"\n",
    "period_of_days = \"500\"\n",
    "USGSparameter = \"72019\"\n",
    "\n",
    "# URL with streamflow/groundwater data from the USGS\n",
    "url = 'https://waterservices.usgs.gov/nwis/iv/?format=json&sites=' + siteNum + '&period=P'+ period_of_days +'D&parameterCd=' + USGSparameter + '&siteStatus=all'"
   ]
  },
  {
   "cell_type": "markdown",
   "metadata": {
    "collapsed": false
   },
   "source": [
    "## Let's open the URL and read the data in\n",
    "\n",
    "First, we have to request to open the url, using urllib.request.urlopen()\n",
    "\n",
    "Next, we have to load the json-formatted data, which will be read in as a dictionary"
   ]
  },
  {
   "cell_type": "code",
   "execution_count": 12,
   "metadata": {
    "collapsed": false,
    "scrolled": true
   },
   "outputs": [
   ],
   "source": [
    "#open the URL\n",
    "response = urllib.request.urlopen(url)\n",
    "# read the data in as a dictionary\n",
    "gw_data = json.loads(response.read())"
   ]
  },
  {
   "cell_type": "markdown",
   "metadata": {
    "collapsed": false
   },
   "source": [
    "## Now let's extract the data from the dictionary that we actually need"
   ]
  },
  {
   "cell_type": "code",
   "execution_count": 13,
   "metadata": {
    "collapsed": false,
    "scrolled": true
   },
   "outputs": [
   ],
   "source": [
    "# extract the list of dictionaries containing time series and value information\n",
    "gw_data2 = gw_data['value']['timeSeries'][0]['values'][0]['value']\n",
    "# extract the site name\n",
    "sitename = gw_data['value']['timeSeries'][0]['sourceInfo']['siteName']"
   ]
  },
  {
   "cell_type": "markdown",
   "metadata": {
    "collapsed": false
   },
   "source": [
    "## Next create a list for the time series and values"
   ]
  },
  {
   "cell_type": "code",
   "execution_count": 14,
   "metadata": {
    "collapsed": false,
    "scrolled": true
   },
   "outputs": [
   ],
   "source": [
    "# Initialize arrays to store time and gage data\n",
    "gw_gage = []\n",
    "gw_time = [] # Datatype needs to be datetime here\n",
    "# Add data from list of dictionaries into an array for time and gage\n",
    "# note that gage requires conversion to a date time\n",
    "for x in gw_data2:\n",
    "    # add gage data, must convert from string to float\n",
    "    gw_gage.append(float(x['value']))\n",
    "    # extract date\n",
    "    date = x['dateTime']\n",
    "    datestr = date[:-10] # Don't include the last ten digits\n",
    "    dat_time = datetime.strptime(datestr, '%Y-%m-%dT%H:%M:%S') # Convert string to datetime\n",
    "    # append date time\n",
    "    gw_time.append(dat_time)\n",
    "\n"
   ]
  },
  {
   "cell_type": "markdown",
   "metadata": {
    "collapsed": false
   },
   "source": [
    "## Finally let's plot the data"
   ]
  },
  {
   "cell_type": "code",
   "execution_count": 15,
   "metadata": {
    "collapsed": false
   },
   "outputs": [
    {
     "data": {
      "image/png": "[encoded data removed]"
     },
     "execution_count": 15,
     "metadata": {
      "image/png": {
       "height": 710,
       "width": 710
      }
     },
     "output_type": "execute_result"
    }
   ],
   "source": [
    "# control size of plot\n",
    "plt.rcParams['figure.figsize'] = 10,10\n",
    "# plot time vs gage (depth to water)\n",
    "plt.plot(gw_time,gw_gage)\n",
    "# add title with sitename and date\n",
    "plt.title(sitename + ' \\n ' + 'Most recent measurement: ' + str(dat_time), fontweight = 'bold')\n",
    "plt.xticks(rotation=30)\n",
    "plt.xlabel('date')\n",
    "plt.ylabel('USGS Parameter '+USGSparameter)\n",
    "if USGSparameter == '72019':\n",
    "    plt.gca().invert_yaxis()\n",
    "plt.tight_layout()\n",
    "plt.show()"
   ]
  },
  {
   "cell_type": "markdown",
   "metadata": {
    "collapsed": false
   },
   "source": [
    "## Question:\n",
    "\n",
    "Irrigation had the greatest influence on this monitoring well in which of the last three years?"
   ]
  },
  {
   "cell_type": "code",
   "execution_count": 0,
   "metadata": {
    "collapsed": false
   },
   "outputs": [
   ],
   "source": [
   ]
  }
 ],
 "metadata": {
  "kernelspec": {
   "display_name": "Python 3 (system-wide)",
   "language": "python",
   "metadata": {
    "cocalc": {
     "description": "Python 3 programming language",
     "priority": 100,
     "url": "https://www.python.org/"
    }
   },
   "name": "python3"
  },
  "language_info": {
   "codemirror_mode": {
    "name": "ipython",
    "version": 3
   },
   "file_extension": ".py",
   "mimetype": "text/x-python",
   "name": "python",
   "nbconvert_exporter": "python",
   "pygments_lexer": "ipython3",
   "version": "3.6.9"
  }
 },
 "nbformat": 4,
 "nbformat_minor": 0
}