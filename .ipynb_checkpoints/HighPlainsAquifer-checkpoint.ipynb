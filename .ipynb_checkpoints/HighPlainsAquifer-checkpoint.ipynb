{
 "cells": [
  {
   "cell_type": "markdown",
   "metadata": {
    "colab_type": "text",
    "id": "FBD1LT_1Amgc"
   },
   "source": [
    "# High Plains Aquifer Potentiometric Surface"
   ]
  },
  {
   "cell_type": "markdown",
   "metadata": {
    "colab_type": "text",
    "id": "ZamDRI3SAmge"
   },
   "source": [
    "This week, we are going to create a potentiometric surface for a heavily stressed portion of the High Plains Aquifer system in southwestern Kansas. "
   ]
  },
  {
   "cell_type": "markdown",
   "metadata": {
    "colab_type": "text",
    "id": "i3PhWmhMAmgf"
   },
   "source": [
    "### Import packages\n",
    "\n",
    "This week, we are going to use four libraries that you have already seen (pandas, matplotlib, pylab, and numpy).\n",
    "\n",
    "We are also going to use a new package, CartoPy, to do mapping. In CoLab, we can import our packages in a code cell. If you are using your own version of Anaconda, in Conda Prompt, run \"conda install cartopy\" before running this script. Next, we are going to import the pykrige package, which we much install. In Conda Prompt, run \"pip install pykrige\". This will add pykrige to your Anaconda installation . We are going to import the Universal Kriging function to make contours."
   ]
  },
  {
   "cell_type": "code",
   "execution_count": 1,
   "metadata": {
    "colab": {
     "base_uri": "https://localhost:8080/",
     "height": 55
    },
    "colab_type": "code",
    "id": "-0swz6XWAw0I",
    "outputId": "2e0655ee-9b7f-4028-90cc-f7bdd5a91e54"
   },
   "outputs": [
    {
     "name": "stderr",
     "output_type": "stream",
     "text": [
      "'apt-get' is not recognized as an internal or external command,\n",
      "operable program or batch file.\n"
     ]
    },
    {
     "ename": "ModuleNotFoundError",
     "evalue": "No module named 'cartopy'",
     "output_type": "error",
     "traceback": [
      "\u001b[1;31m---------------------------------------------------------------------------\u001b[0m",
      "\u001b[1;31mModuleNotFoundError\u001b[0m                       Traceback (most recent call last)",
      "\u001b[1;32m<ipython-input-1-677885e30e73>\u001b[0m in \u001b[0;36m<module>\u001b[1;34m\u001b[0m\n\u001b[0;32m      3\u001b[0m \u001b[1;31m#You can keep running this even after installed, because it will recognize the install quickly.\u001b[0m\u001b[1;33m\u001b[0m\u001b[1;33m\u001b[0m\u001b[1;33m\u001b[0m\u001b[0m\n\u001b[0;32m      4\u001b[0m \u001b[0mget_ipython\u001b[0m\u001b[1;33m(\u001b[0m\u001b[1;33m)\u001b[0m\u001b[1;33m.\u001b[0m\u001b[0msystem\u001b[0m\u001b[1;33m(\u001b[0m\u001b[1;34m'apt-get -qq install python-cartopy python3-cartopy'\u001b[0m\u001b[1;33m)\u001b[0m\u001b[1;33m\u001b[0m\u001b[1;33m\u001b[0m\u001b[0m\n\u001b[1;32m----> 5\u001b[1;33m \u001b[1;32mimport\u001b[0m \u001b[0mcartopy\u001b[0m\u001b[1;33m\u001b[0m\u001b[1;33m\u001b[0m\u001b[0m\n\u001b[0m\u001b[0;32m      6\u001b[0m \u001b[1;33m\u001b[0m\u001b[0m\n\u001b[0;32m      7\u001b[0m \u001b[1;31m# And here we install pykrige. Note that this differs from a normal pip install in that it requires a leading \"!\"\u001b[0m\u001b[1;33m\u001b[0m\u001b[1;33m\u001b[0m\u001b[1;33m\u001b[0m\u001b[0m\n",
      "\u001b[1;31mModuleNotFoundError\u001b[0m: No module named 'cartopy'"
     ]
    }
   ],
   "source": [
    "# CoLab recommends to run the following two lines of code to import cartopy. \n",
    "#You will likely need to reinstall each time you log into CoLab, but it doesn't take too long. \n",
    "#You can keep running this even after installed, because it will recognize the install quickly.\n",
    "import cartopy\n",
    "\n",
    "# And here we install pykrige. Note that this differs from a normal pip install in that it requires a leading \"!\"\n",
    "!pip install pykrige"
   ]
  },
  {
   "cell_type": "markdown",
   "metadata": {
    "colab_type": "text",
    "id": "X1oRxrAszs4d"
   },
   "source": [
    "### Import packages\n",
    "\n",
    "You have already seen pandas and matplotlib. We also need to import cartopy and pykrige (the above lines of code only installed them for use in Python but they still need imported to run in this notebook). Finally, we are going to import pylab (which is used for plotting spatial images) and numpy (which is used to work with spatial data)."
   ]
  },
  {
   "cell_type": "code",
   "execution_count": null,
   "metadata": {
    "colab": {},
    "colab_type": "code",
    "id": "sSpc0GjuAmgg"
   },
   "outputs": [],
   "source": [
    "# Now let's import packages\n",
    "import pandas as pd\n",
    "import matplotlib.pyplot as plt\n",
    "import pylab # using as a plotting library for spatial data, make contours\n",
    "import numpy as np # array package\n",
    "\n",
    "# import cartopy, which we will use to map\n",
    "import cartopy.crs as ccrs                   # import projections\n",
    "import cartopy.feature as cf                 # import features\n",
    "\n",
    "\n",
    "# import the UniversalKriging function from pykrige.uk \n",
    "from pykrige.uk import UniversalKriging"
   ]
  },
  {
   "cell_type": "markdown",
   "metadata": {
    "colab_type": "text",
    "id": "QpAY5OyWAmgk"
   },
   "source": [
    "### Import data from the High Plains aquifer\n",
    "\n",
    "This data is from 2013 (pre-irrigation season) for the High Plains Aquifer. We are going to work with data from the southern portion of Kansas and northern Texas, where water level changes are most extreme. We also calculate head and remove erroneous values where the land surface shows as 0 ft. \n",
    "\n",
    "![HighPlains](https://prd-wret.s3-us-west-2.amazonaws.com/assets/palladium/production/s3fs-public/styles/full_width/public/thumbnails/image/hp_wlcpd15go.png)"
   ]
  },
  {
   "cell_type": "code",
   "execution_count": null,
   "metadata": {
    "colab": {
     "base_uri": "https://localhost:8080/",
     "height": 417
    },
    "colab_type": "code",
    "id": "OPGEHYPUAmgk",
    "outputId": "53826cb6-af32-4314-b685-35f3a16401fa"
   },
   "outputs": [],
   "source": [
    "# High Plains aquifer data from Kansas, import into dataframe\n",
    "hp_dtw = pd.read_excel('https://github.com/dbabrams/Week6PotSurface/blob/master/DTW_2013.xlsx?raw=true')\n",
    "# add a column for head and calculate as (land surface - depth to water)\n",
    "#hp_dtw = hp_dtw.join(pd.DataFrame({'heads_ft': hp_dtw['land_surface']-hp_dtw['DTW']}))\n",
    "hp_dtw['heads_ft'] = hp_dtw['land_surface']-hp_dtw['DTW']\n",
    "hp_dtw.sort_values(by=['heads_ft'])\n",
    "# remove rows where land surface is not known and shows as 0 ft\n",
    "#hp_dtw = hp_dtw.drop(hp_dtw[hp_dtw['land_surface'] == 0].index)\n",
    "#print(hp_dtw)"
   ]
  },
  {
   "cell_type": "markdown",
   "metadata": {
    "colab_type": "text",
    "id": "vbY4CfDj0d4U"
   },
   "source": [
    "We don't want to work with all of the data, so let's trim to the southern portion of Kansas and northern portion of Texas where head declines are at their greatest. "
   ]
  },
  {
   "cell_type": "code",
   "execution_count": null,
   "metadata": {
    "colab": {},
    "colab_type": "code",
    "id": "2CmPAlfultEj"
   },
   "outputs": [],
   "source": [
    "# define the area over which to plot data\n",
    "minlat = 35\n",
    "maxlat = 38.2\n",
    "minlong = -101.75\n",
    "maxlong = -100.10\n",
    "\n",
    "# trim the dataset\n",
    "hp_dtw = hp_dtw.drop(hp_dtw[hp_dtw['lat_dd'] < minlat].index)\n",
    "hp_dtw = hp_dtw.drop(hp_dtw[hp_dtw['lat_dd'] > maxlat].index)\n",
    "hp_dtw = hp_dtw.drop(hp_dtw[hp_dtw['long_dd'] < minlong].index)\n",
    "hp_dtw = hp_dtw.drop(hp_dtw[hp_dtw['long_dd'] > maxlong].index)"
   ]
  },
  {
   "cell_type": "code",
   "execution_count": null,
   "metadata": {
    "colab": {
     "base_uri": "https://localhost:8080/",
     "height": 35
    },
    "colab_type": "code",
    "id": "p5xC-T-5TBHO",
    "outputId": "cb6dca43-69c3-43ba-83b7-9ff724c82299"
   },
   "outputs": [],
   "source": [
    "hp_dtw[hp_dtw['lat_dd']< minlat].index"
   ]
  },
  {
   "cell_type": "markdown",
   "metadata": {
    "colab_type": "text",
    "id": "w37qNuYaAmgn"
   },
   "source": [
    "### Conduct kriging\n",
    "\n",
    "After importing the pykrige package, conduct a Universal Kriging. The Universal Kriging function requires the following input parameters:\n",
    "\n",
    "<ul>\n",
    "    <li>The longitude of points to be interpolated, as a numpy data array</li>\n",
    "    <li>The latitude of points to be interpolated, as a numpy data array</li>\n",
    "    <li>Head for each point</li>\n",
    "    <li>Variogram model, assigned as \"Spherical\". We could also explore Gaussian, Linear, Exponential, etc.</li>\n",
    "    <li>\"nlags\" indicate how many points are binned when conducting the interpolation.</li>\n",
    "</ul>"
   ]
  },
  {
   "cell_type": "code",
   "execution_count": null,
   "metadata": {
    "colab": {},
    "colab_type": "code",
    "id": "fZNqmgNzAmgo"
   },
   "outputs": [],
   "source": [
    "# conduct the Universal Kriging, note that the output is an object that we have to work with later. \n",
    "UK = UniversalKriging(hp_dtw['long_dd'], hp_dtw['lat_dd'], hp_dtw['heads_ft'], variogram_model='spherical',nlags=6)"
   ]
  },
  {
   "cell_type": "code",
   "execution_count": null,
   "metadata": {
    "colab": {
     "base_uri": "https://localhost:8080/",
     "height": 35
    },
    "colab_type": "code",
    "id": "NpQaROVhVbdd",
    "outputId": "ddeea7b7-e75c-4c26-963b-689be4d9a0f6"
   },
   "outputs": [],
   "source": [
    "print(UK)"
   ]
  },
  {
   "cell_type": "markdown",
   "metadata": {
    "colab_type": "text",
    "id": "aPtmtE96Amgq"
   },
   "source": [
    "### Create a grid to plot the data\n",
    "\n",
    "![int](http://www.bisolutions.us/web/graphic/spacial_interpolation_001.gif)\n",
    "\n",
    "First, we need to define the range over which we are going to create out plot (xpoints and ypoints are the \"input\" in the above image). Second, we need to create the x and y coordinates for the grid (with a grid spacing of 0.01). We do this by defining the x and y points for each grid cell, defined as X and Y. Coarse grid spacing will result in faster run times. Finally, we use the method UK.execute(), with arguments that first inform that we are creating a grid ('grid'), xpoints, and ypoints. The output of this method is the interpolated values and the variance. Note that we also run the method z.filled(), which will fill in any missing values. We assign the fill_value as 'None'. This code returns the output shown above."
   ]
  },
  {
   "cell_type": "code",
   "execution_count": null,
   "metadata": {
    "colab": {},
    "colab_type": "code",
    "id": "SJV0HenkAmgr"
   },
   "outputs": [],
   "source": [
    "# create xpoints and ypoints in space, with 0.01 spacing\n",
    "xpoints = np.arange(minlong,maxlong,0.01)\n",
    "ypoints = np.arange(minlat,maxlat,0.01)\n",
    "\n",
    "# create a meshgrid with xpoints and ypoints, to be used later in the code\n",
    "X,Y = np.meshgrid(xpoints,ypoints)\n",
    "\n",
    "# calculate the interpolated grid and fill values.\n",
    "z, var = UK.execute('grid', xpoints,ypoints)\n",
    "z = z.filled(fill_value=None)"
   ]
  },
  {
   "cell_type": "code",
   "execution_count": null,
   "metadata": {
    "colab": {
     "base_uri": "https://localhost:8080/",
     "height": 35
    },
    "colab_type": "code",
    "id": "Qi_5F-rUYAgY",
    "outputId": "cd167119-aad5-4e52-f234-8b6aebabba85"
   },
   "outputs": [],
   "source": [
    "type(z)"
   ]
  },
  {
   "cell_type": "markdown",
   "metadata": {
    "colab_type": "text",
    "id": "kSIXsLMwVya9"
   },
   "source": [
    "### Create a potentiometric surface\n",
    "\n",
    "Let's create a map using CartoPy with the defined extents and imported data, as well as the interpolated grid from above. We will need to use the following arguments:\n",
    "\n",
    "<ul>\n",
    "    <li>mesh grid X</li>\n",
    "    <li>mesh grid Y</li>\n",
    "    <li>Interpolated grid z</li>\n",
    "    <li>Range over which to contour (2000-3000 ft works well, with an interval of 100 ft)</li>\n",
    "</ul>\n",
    "\n",
    "Next, we will label the contours using pylab.clabel, with the following arguments:\n",
    "\n",
    "<ul>\n",
    "    <li>The object defining the contours </li>\n",
    "    <li>inline, which defines how labels are positioned</li>\n",
    "    <li>font size</li>\n",
    "    <li>label format (here we format as an integer using fmt = '%1.0f')</li>\n",
    "</ul>"
   ]
  },
  {
   "cell_type": "code",
   "execution_count": null,
   "metadata": {
    "colab": {
     "base_uri": "https://localhost:8080/",
     "height": 643
    },
    "colab_type": "code",
    "id": "GKwCuOa0avlE",
    "outputId": "141b3ed3-ad8f-414a-ddf7-d7095236f10a"
   },
   "outputs": [],
   "source": [
    "# Create a figure\n",
    "fig = plt.figure(figsize=(8, 8))\n",
    "# define a projection\n",
    "ax = plt.axes(projection=ccrs.PlateCarree())\n",
    "# define spatial domain to plot\n",
    "ax.set_xlim(minlong,maxlong)\n",
    "ax.set_ylim(minlat,maxlat)\n",
    "# define title\n",
    "ax.set_title(\"Head (ft above MSL)\")\n",
    "\n",
    "# we are now going to use CartoPy to import a number of features from Natural Earth Data\n",
    "# Visit https://www.naturalearthdata.com/features/ for more options\n",
    "states_provinces = cf.NaturalEarthFeature(\n",
    "    category='cultural', # features are categorized as cultural or physical\n",
    "    name='admin_1_states_provinces', # name of shapefile\n",
    "    scale='50m', # scale of features\n",
    "    facecolor='none')\t\n",
    "largerivers = cf.NaturalEarthFeature(\n",
    "    category='physical',\n",
    "    name='rivers_lake_centerlines',\n",
    "    scale='110m', # major rivers\n",
    "    facecolor='none')\n",
    "smallrivers = cf.NaturalEarthFeature(\n",
    "    category='physical',\n",
    "    name='rivers_lake_centerlines_scale_rank',\n",
    "    scale='10m', # smaller rivers (still considered major by many/most people)\n",
    "    facecolor='none')   \n",
    "popplaces = cf.NaturalEarthFeature(\n",
    "    category='cultural',\n",
    "    name='urban_areas', # plots municipal boundaries\n",
    "    scale='10m',\n",
    "    facecolor='plum') \n",
    "# adds the features defined above\n",
    "ax.add_feature(popplaces,edgecolor='plum',linewidth=1.0)\n",
    "ax.add_feature(largerivers,edgecolor='aqua',linewidth=2.0)\n",
    "ax.add_feature(smallrivers,edgecolor='aqua',linewidth=2.0)\n",
    "ax.add_feature(states_provinces, edgecolor='black', linewidth=3.0,linestyle=':')\n",
    "\n",
    "# create contours from the interpolation\n",
    "cset = plt.contour(X,Y,z,np.arange(1000, 5000, 50),colors='blue')\n",
    "\n",
    "# labels contours, makes use of pylab\n",
    "pylab.clabel(cset, inline=1, fontsize=10,fmt='%1.0f')\n",
    "\n",
    "# plot the points that were measured\n",
    "plt.scatter(hp_dtw['long_dd'], hp_dtw['lat_dd'], marker=\".\", color=\"black\", label=\"points\")\n",
    "plt.legend(loc='lower right')\n",
    "plt.title('Head (ft above MSL)')\n",
    "plt.show()\n"
   ]
  },
  {
   "cell_type": "markdown",
   "metadata": {
    "colab_type": "text",
    "id": "KSs1tUGn4YTS"
   },
   "source": [
    "Let's define two functions, the first to create the interpolated grid and the second to plot it. With minor variations, this is the same code that we worked with above. "
   ]
  },
  {
   "cell_type": "code",
   "execution_count": null,
   "metadata": {
    "colab": {},
    "colab_type": "code",
    "id": "l6EQMhAvqZIf"
   },
   "outputs": [],
   "source": [
    "def HighPlains(xlsx_file,minlat,maxlat,minlong,maxlong,nlags):\n",
    "  df = pd.read_excel(xlsx_file)\n",
    "  df = df.join(pd.DataFrame({'heads_ft': df['land_surface']-df['DTW']}))\n",
    "  df = df.drop(df[df['land_surface'] == 0].index)\n",
    "  df = df.drop(df[df['lat_dd'] < minlat].index)\n",
    "  df = df.drop(df[df['lat_dd'] > maxlat].index)\n",
    "  df = df.drop(df[df['long_dd'] < minlong].index)\n",
    "  df = df.drop(df[df['long_dd'] > maxlong].index)\n",
    "  UK = UniversalKriging(df['long_dd'], df['lat_dd'], df['heads_ft'], variogram_model='spherical',nlags=nlags)\n",
    "  # create xpoints and ypoints in space, with 0.01 spacing\n",
    "  xpoints = np.arange(minlong,maxlong,0.01)\n",
    "  ypoints = np.arange(minlat,maxlat,0.01)\n",
    "  # create a meshgrid with xpoints and ypoints, to be used later in the code\n",
    "  X,Y = np.meshgrid(xpoints,ypoints)\n",
    "  # calculate the interpolated grid and fill values.\n",
    "  z, var = UK.execute('grid', xpoints,ypoints)\n",
    "  z = z.filled(fill_value=None)\n",
    "  return X, Y, z\n",
    "  \n",
    "def hydrograph_plotter(X, Y, z, mincon, maxcon, invcon, title):  \n",
    "  # insert figure\n",
    "  fig = plt.figure(figsize=(8, 8))\n",
    "  ax = plt.axes(projection=ccrs.PlateCarree())\n",
    "  ax.set_title(\"Head (ft above MSL)\")\n",
    "  states_provinces = cf.NaturalEarthFeature(\n",
    "      category='cultural',\n",
    "      name='admin_1_states_provinces',\n",
    "      scale='50m',\n",
    "      facecolor='none')\t\n",
    "  largerivers = cf.NaturalEarthFeature(\n",
    "      category='physical',\n",
    "      name='rivers_lake_centerlines',\n",
    "      scale='110m',\n",
    "      facecolor='none')\n",
    "  smallrivers = cf.NaturalEarthFeature(\n",
    "      category='physical',\n",
    "      name='rivers_lake_centerlines_scale_rank',\n",
    "      scale='10m',\n",
    "      facecolor='none')   \n",
    "  popplaces = cf.NaturalEarthFeature(\n",
    "      category='cultural',\n",
    "      name='urban_areas',\n",
    "      scale='10m',\n",
    "      facecolor='plum') \n",
    "  ax.add_feature(popplaces,edgecolor='plum',linewidth=1.0)\n",
    "  ax.add_feature(largerivers,edgecolor='aqua',linewidth=2.0)\n",
    "  ax.add_feature(smallrivers,edgecolor='aqua',linewidth=2.0)\n",
    "  ax.add_feature(states_provinces, edgecolor='black', linewidth=3.0,linestyle=':')\n",
    "  # create contours from the interpolation\n",
    "  cset = plt.contour(X,Y,z,np.arange(mincon, maxcon, invcon),colors='blue')\n",
    "  # contour labels\n",
    "  pylab.clabel(cset, inline=1, fontsize=10,fmt='%1.0f')\n",
    "  plt.title(title)\n",
    "  plt.show()\n"
   ]
  },
  {
   "cell_type": "markdown",
   "metadata": {
    "colab_type": "text",
    "id": "qPe1_VvP4i8u"
   },
   "source": [
    "Now let's import data from 1995 and 2013. This will take some time to run. "
   ]
  },
  {
   "cell_type": "code",
   "execution_count": null,
   "metadata": {
    "colab": {},
    "colab_type": "code",
    "id": "xWazjrJ2K9Sq"
   },
   "outputs": [],
   "source": [
    "# High Plains aquifer data from Kansas, import into dataframe\n",
    "dtw_1995 = 'https://github.com/dbabrams/Week6PotSurface/blob/master/DTW_1995.xlsx?raw=true'\n",
    "dtw_2013 = 'https://github.com/dbabrams/Week6PotSurface/blob/master/DTW_2013.xlsx?raw=true'\n",
    "# define the area over which to plot data\n",
    "minlat = 35\n",
    "maxlat = 38.2\n",
    "minlong = -101.75\n",
    "maxlong = -100.10\n",
    "nlags = 6\n",
    "\n",
    "X_95, Y_95, z_95 = HighPlains(dtw_1995,minlat,maxlat,minlong,maxlong,nlags)\n",
    "X_13, Y_13, z_13 = HighPlains(dtw_2013,minlat,maxlat,minlong,maxlong,nlags)\n",
    "\n"
   ]
  },
  {
   "cell_type": "markdown",
   "metadata": {
    "colab_type": "text",
    "id": "K2CIQLkO4obr"
   },
   "source": [
    "Finally, let's plot the data. The last plot will show the head difference from 1995 to 2013. "
   ]
  },
  {
   "cell_type": "code",
   "execution_count": null,
   "metadata": {
    "colab": {
     "base_uri": "https://localhost:8080/",
     "height": 1000
    },
    "colab_type": "code",
    "id": "dX1bCXs5v-z6",
    "outputId": "c5cfd24f-467b-4950-9af6-84519200dda7"
   },
   "outputs": [],
   "source": [
    "hydrograph_plotter(X_95, Y_95, z_95, 1000, 5000, 100,'Head (ft AMSL), 1995')\n",
    "hydrograph_plotter(X_13, Y_13, z_13, 1000, 5000, 100,'Head (ft AMSL) 2013')\n",
    "hydrograph_plotter(X_95, Y_95, z_95-z_13, -200, 200, 50,'Head Difference (1995 to 2013)')"
   ]
  }
 ],
 "metadata": {
  "colab": {
   "name": "Week 9 High Plains Aquifer.ipynb",
   "provenance": []
  },
  "kernelspec": {
   "display_name": "Python 3",
   "language": "python",
   "name": "python3"
  },
  "language_info": {
   "codemirror_mode": {
    "name": "ipython",
    "version": 3
   },
   "file_extension": ".py",
   "mimetype": "text/x-python",
   "name": "python",
   "nbconvert_exporter": "python",
   "pygments_lexer": "ipython3",
   "version": "3.8.5"
  }
 },
 "nbformat": 4,
 "nbformat_minor": 1
}
